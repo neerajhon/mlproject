{
  "metadata": {
    "kernelspec": {
      "language": "python",
      "display_name": "Python 3",
      "name": "python3"
    },
    "language_info": {
      "name": "python",
      "version": "3.10.13",
      "mimetype": "text/x-python",
      "codemirror_mode": {
        "name": "ipython",
        "version": 3
      },
      "pygments_lexer": "ipython3",
      "nbconvert_exporter": "python",
      "file_extension": ".py"
    },
    "kaggle": {
      "accelerator": "gpu",
      "dataSources": [
        {
          "sourceId": 182633,
          "sourceType": "datasetVersion",
          "datasetId": 78313
        }
      ],
      "dockerImageVersionId": 30683,
      "isInternetEnabled": true,
      "language": "python",
      "sourceType": "notebook",
      "isGpuEnabled": true
    },
    "colab": {
      "provenance": [],
      "include_colab_link": true
    }
  },
  "nbformat_minor": 0,
  "nbformat": 4,
  "cells": [
    {
      "cell_type": "markdown",
      "metadata": {
        "id": "view-in-github",
        "colab_type": "text"
      },
      "source": [
        "<a href=\"https://colab.research.google.com/github/neerajhon/project/blob/main/Detection.ipynb\" target=\"_parent\"><img src=\"https://colab.research.google.com/assets/colab-badge.svg\" alt=\"Open In Colab\"/></a>"
      ]
    },
    {
      "source": [
        "\n",
        "# IMPORTANT: RUN THIS CELL IN ORDER TO IMPORT YOUR KAGGLE DATA SOURCES\n",
        "# TO THE CORRECT LOCATION (/kaggle/input) IN YOUR NOTEBOOK,\n",
        "# THEN FEEL FREE TO DELETE THIS CELL.\n",
        "# NOTE: THIS NOTEBOOK ENVIRONMENT DIFFERS FROM KAGGLE'S PYTHON\n",
        "# ENVIRONMENT SO THERE MAY BE MISSING LIBRARIES USED BY YOUR\n",
        "# NOTEBOOK.\n",
        "\n",
        "import os\n",
        "import sys\n",
        "from tempfile import NamedTemporaryFile\n",
        "from urllib.request import urlopen\n",
        "from urllib.parse import unquote, urlparse\n",
        "from urllib.error import HTTPError\n",
        "from zipfile import ZipFile\n",
        "import tarfile\n",
        "import shutil\n",
        "\n",
        "CHUNK_SIZE = 40960\n",
        "DATA_SOURCE_MAPPING = 'new-plant-diseases-dataset:https%3A%2F%2Fstorage.googleapis.com%2Fkaggle-data-sets%2F78313%2F182633%2Fbundle%2Farchive.zip%3FX-Goog-Algorithm%3DGOOG4-RSA-SHA256%26X-Goog-Credential%3Dgcp-kaggle-com%2540kaggle-161607.iam.gserviceaccount.com%252F20240427%252Fauto%252Fstorage%252Fgoog4_request%26X-Goog-Date%3D20240427T042825Z%26X-Goog-Expires%3D259200%26X-Goog-SignedHeaders%3Dhost%26X-Goog-Signature%3D518137c5b84e97fd9eb74b9b5021ba3059405b29367bb201d71a13ae70cbad6384ef6d6d70b2d56ba1d944496730c3391f20624c32e8cad033a175c9fb6c8a83f95b3dcb5c7ce5169e082b6d305ad8dd7e117d49b548f80dabbb71489a2fe6efa93d980074e3927bcb85cc872610dc2e46541231455872df7ad375c06882e30f4b9665374675f7d99452a1a52f1d24fb9f0fd792b12bd2f37449be24bc824e6d58dd34470489e7519ac71590e3c1f9aec0e58341511844fd05ba91cc4ca92b5d5ee2e416744dfa663a2a8a41ef77882c2fe3a3af150325035d4adc8d4b9dbf42f8ee8d9c374620926c257a6e40c4db77335d12d6a3f89f455e2475980c80b0ce'\n",
        "\n",
        "KAGGLE_INPUT_PATH='/kaggle/input'\n",
        "KAGGLE_WORKING_PATH='/kaggle/working'\n",
        "KAGGLE_SYMLINK='kaggle'\n",
        "\n",
        "!umount /kaggle/input/ 2> /dev/null\n",
        "shutil.rmtree('/kaggle/input', ignore_errors=True)\n",
        "os.makedirs(KAGGLE_INPUT_PATH, 0o777, exist_ok=True)\n",
        "os.makedirs(KAGGLE_WORKING_PATH, 0o777, exist_ok=True)\n",
        "\n",
        "try:\n",
        "  os.symlink(KAGGLE_INPUT_PATH, os.path.join(\"..\", 'input'), target_is_directory=True)\n",
        "except FileExistsError:\n",
        "  pass\n",
        "try:\n",
        "  os.symlink(KAGGLE_WORKING_PATH, os.path.join(\"..\", 'working'), target_is_directory=True)\n",
        "except FileExistsError:\n",
        "  pass\n",
        "\n",
        "for data_source_mapping in DATA_SOURCE_MAPPING.split(','):\n",
        "    directory, download_url_encoded = data_source_mapping.split(':')\n",
        "    download_url = unquote(download_url_encoded)\n",
        "    filename = urlparse(download_url).path\n",
        "    destination_path = os.path.join(KAGGLE_INPUT_PATH, directory)\n",
        "    try:\n",
        "        with urlopen(download_url) as fileres, NamedTemporaryFile() as tfile:\n",
        "            total_length = fileres.headers['content-length']\n",
        "            print(f'Downloading {directory}, {total_length} bytes compressed')\n",
        "            dl = 0\n",
        "            data = fileres.read(CHUNK_SIZE)\n",
        "            while len(data) > 0:\n",
        "                dl += len(data)\n",
        "                tfile.write(data)\n",
        "                done = int(50 * dl / int(total_length))\n",
        "                sys.stdout.write(f\"\\r[{'=' * done}{' ' * (50-done)}] {dl} bytes downloaded\")\n",
        "                sys.stdout.flush()\n",
        "                data = fileres.read(CHUNK_SIZE)\n",
        "            if filename.endswith('.zip'):\n",
        "              with ZipFile(tfile) as zfile:\n",
        "                zfile.extractall(destination_path)\n",
        "            else:\n",
        "              with tarfile.open(tfile.name) as tarfile:\n",
        "                tarfile.extractall(destination_path)\n",
        "            print(f'\\nDownloaded and uncompressed: {directory}')\n",
        "    except HTTPError as e:\n",
        "        print(f'Failed to load (likely expired) {download_url} to path {destination_path}')\n",
        "        continue\n",
        "    except OSError as e:\n",
        "        print(f'Failed to load {download_url} to path {destination_path}')\n",
        "        continue\n",
        "\n",
        "print('Data source import complete.')\n"
      ],
      "metadata": {
        "id": "B3oUOY29z9fP"
      },
      "cell_type": "code",
      "outputs": [],
      "execution_count": null
    },
    {
      "cell_type": "code",
      "source": [
        "import numpy as np\n",
        "from keras.applications import ResNet50\n",
        "from keras.models import Sequential\n",
        "from keras.layers import Dense, GlobalAveragePooling2D, Dropout\n",
        "from keras.optimizers import Adam\n",
        "from keras.callbacks import ReduceLROnPlateau, EarlyStopping\n",
        "from keras import regularizers\n",
        "from tensorflow.keras.preprocessing.image import ImageDataGenerator\n"
      ],
      "metadata": {
        "execution": {
          "iopub.status.busy": "2024-04-17T19:23:33.103224Z",
          "iopub.execute_input": "2024-04-17T19:23:33.103612Z",
          "iopub.status.idle": "2024-04-17T19:23:46.592431Z",
          "shell.execute_reply.started": "2024-04-17T19:23:33.103584Z",
          "shell.execute_reply": "2024-04-17T19:23:46.5913Z"
        },
        "trusted": true,
        "id": "nTRa4gN7z9fS"
      },
      "execution_count": null,
      "outputs": []
    },
    {
      "cell_type": "code",
      "source": [
        "# Setting up the directories for train, validation, and test data\n",
        "train_dir = '../input/new-plant-diseases-dataset/New Plant Diseases Dataset(Augmented)/New Plant Diseases Dataset(Augmented)/train'\n",
        "valid_dir = '../input/new-plant-diseases-dataset/New Plant Diseases Dataset(Augmented)/New Plant Diseases Dataset(Augmented)/valid'\n",
        "test_dir = '../input/new-plant-diseases-dataset/test'"
      ],
      "metadata": {
        "execution": {
          "iopub.status.busy": "2024-04-17T19:23:46.594328Z",
          "iopub.execute_input": "2024-04-17T19:23:46.594896Z",
          "iopub.status.idle": "2024-04-17T19:23:46.603773Z",
          "shell.execute_reply.started": "2024-04-17T19:23:46.594867Z",
          "shell.execute_reply": "2024-04-17T19:23:46.602505Z"
        },
        "trusted": true,
        "id": "8bMZ7SPJz9fT"
      },
      "execution_count": null,
      "outputs": []
    },
    {
      "cell_type": "code",
      "source": [
        "# Data augmentation and preprocessing\n",
        "train_datagen = ImageDataGenerator(\n",
        "    rescale=1./255,\n",
        "    shear_range=0.2,\n",
        "    zoom_range=0.2,\n",
        "    rotation_range=40,\n",
        "    width_shift_range=0.2,\n",
        "    height_shift_range=0.2,\n",
        "    horizontal_flip=True,\n",
        "    fill_mode='nearest'\n",
        ")"
      ],
      "metadata": {
        "execution": {
          "iopub.status.busy": "2024-04-17T19:23:46.605139Z",
          "iopub.execute_input": "2024-04-17T19:23:46.605566Z",
          "iopub.status.idle": "2024-04-17T19:23:46.631206Z",
          "shell.execute_reply.started": "2024-04-17T19:23:46.605521Z",
          "shell.execute_reply": "2024-04-17T19:23:46.630295Z"
        },
        "trusted": true,
        "id": "lsPl9SO7z9fU"
      },
      "execution_count": null,
      "outputs": []
    },
    {
      "cell_type": "code",
      "source": [
        "valid_datagen = ImageDataGenerator(rescale=1./255)\n",
        "test_datagen = ImageDataGenerator(rescale=1./255)\n"
      ],
      "metadata": {
        "execution": {
          "iopub.status.busy": "2024-04-17T19:23:46.633497Z",
          "iopub.execute_input": "2024-04-17T19:23:46.633975Z",
          "iopub.status.idle": "2024-04-17T19:23:46.641826Z",
          "shell.execute_reply.started": "2024-04-17T19:23:46.633941Z",
          "shell.execute_reply": "2024-04-17T19:23:46.640862Z"
        },
        "trusted": true,
        "id": "gg89lZ4Jz9fU"
      },
      "execution_count": null,
      "outputs": []
    },
    {
      "cell_type": "code",
      "source": [
        "train_generator = train_datagen.flow_from_directory(\n",
        "    train_dir,\n",
        "    target_size=(224, 224),\n",
        "    batch_size=32,\n",
        "    class_mode='categorical'\n",
        ")"
      ],
      "metadata": {
        "execution": {
          "iopub.status.busy": "2024-04-17T19:23:46.643033Z",
          "iopub.execute_input": "2024-04-17T19:23:46.643419Z",
          "iopub.status.idle": "2024-04-17T19:24:26.214769Z",
          "shell.execute_reply.started": "2024-04-17T19:23:46.643384Z",
          "shell.execute_reply": "2024-04-17T19:24:26.213535Z"
        },
        "trusted": true,
        "id": "dcUsPg5Bz9fU"
      },
      "execution_count": null,
      "outputs": []
    },
    {
      "cell_type": "code",
      "source": [
        "valid_generator = valid_datagen.flow_from_directory(\n",
        "    valid_dir,\n",
        "    target_size=(224, 224),\n",
        "    batch_size=32,\n",
        "    class_mode='categorical'\n",
        ")"
      ],
      "metadata": {
        "execution": {
          "iopub.status.busy": "2024-04-17T19:24:26.216384Z",
          "iopub.execute_input": "2024-04-17T19:24:26.216765Z",
          "iopub.status.idle": "2024-04-17T19:24:28.83703Z",
          "shell.execute_reply.started": "2024-04-17T19:24:26.216719Z",
          "shell.execute_reply": "2024-04-17T19:24:28.836017Z"
        },
        "trusted": true,
        "id": "oBns2snvz9fV"
      },
      "execution_count": null,
      "outputs": []
    },
    {
      "cell_type": "code",
      "source": [
        "test_generator = test_datagen.flow_from_directory(\n",
        "    test_dir,\n",
        "    target_size=(224, 224),\n",
        "    batch_size=1,\n",
        "    class_mode='categorical',\n",
        "    shuffle=False\n",
        ")"
      ],
      "metadata": {
        "execution": {
          "iopub.status.busy": "2024-04-17T19:24:28.838258Z",
          "iopub.execute_input": "2024-04-17T19:24:28.838576Z",
          "iopub.status.idle": "2024-04-17T19:24:28.870432Z",
          "shell.execute_reply.started": "2024-04-17T19:24:28.838549Z",
          "shell.execute_reply": "2024-04-17T19:24:28.869321Z"
        },
        "trusted": true,
        "id": "91st1H_Dz9fV"
      },
      "execution_count": null,
      "outputs": []
    },
    {
      "cell_type": "code",
      "source": [
        "# Define the ResNet50 model for feature extraction\n",
        "base_model = ResNet50(weights='imagenet', include_top=False, input_shape=(224, 224, 3))"
      ],
      "metadata": {
        "execution": {
          "iopub.status.busy": "2024-04-17T19:24:28.87173Z",
          "iopub.execute_input": "2024-04-17T19:24:28.872048Z",
          "iopub.status.idle": "2024-04-17T19:24:31.763115Z",
          "shell.execute_reply.started": "2024-04-17T19:24:28.872017Z",
          "shell.execute_reply": "2024-04-17T19:24:31.76165Z"
        },
        "trusted": true,
        "id": "tzuSTwUaz9fV"
      },
      "execution_count": null,
      "outputs": []
    },
    {
      "cell_type": "code",
      "source": [
        "# Adding custom layers on top of ResNet50\n",
        "model = Sequential()\n",
        "model.add(base_model)\n",
        "model.add(GlobalAveragePooling2D())\n",
        "model.add(Dense(1024, activation='relu', kernel_regularizer=regularizers.l2(0.0001)))\n",
        "model.add(Dropout(0.5))  # Adding dropout for regularization\n",
        "model.add(Dense(512, activation='relu', kernel_regularizer=regularizers.l2(0.0001)))\n",
        "model.add(Dense(38, activation='softmax'))"
      ],
      "metadata": {
        "execution": {
          "iopub.status.busy": "2024-04-17T19:24:31.76511Z",
          "iopub.execute_input": "2024-04-17T19:24:31.765812Z",
          "iopub.status.idle": "2024-04-17T19:24:31.782852Z",
          "shell.execute_reply.started": "2024-04-17T19:24:31.765754Z",
          "shell.execute_reply": "2024-04-17T19:24:31.781818Z"
        },
        "trusted": true,
        "id": "xyLnBrrzz9fW"
      },
      "execution_count": null,
      "outputs": []
    },
    {
      "cell_type": "code",
      "source": [
        "# Defining the optimizer with learning rate decay and early stopping\n",
        "optimizer = Adam(learning_rate=0.001, clipnorm=1.0)\n",
        "reduce_lr = ReduceLROnPlateau(monitor='val_loss', factor=0.2, patience=3, min_lr=0.0001)\n",
        "early_stopping = EarlyStopping(monitor='val_loss', patience=5, restore_best_weights=True)\n"
      ],
      "metadata": {
        "execution": {
          "iopub.status.busy": "2024-04-17T19:24:31.786142Z",
          "iopub.execute_input": "2024-04-17T19:24:31.786463Z",
          "iopub.status.idle": "2024-04-17T19:24:31.801424Z",
          "shell.execute_reply.started": "2024-04-17T19:24:31.786436Z",
          "shell.execute_reply": "2024-04-17T19:24:31.80049Z"
        },
        "trusted": true,
        "id": "TFlCJr31z9fW"
      },
      "execution_count": null,
      "outputs": []
    },
    {
      "cell_type": "code",
      "source": [
        "# Compiling the model\n",
        "model.compile(optimizer=optimizer, loss='categorical_crossentropy', metrics=['accuracy'])"
      ],
      "metadata": {
        "execution": {
          "iopub.status.busy": "2024-04-17T19:24:31.802616Z",
          "iopub.execute_input": "2024-04-17T19:24:31.802922Z",
          "iopub.status.idle": "2024-04-17T19:24:31.81385Z",
          "shell.execute_reply.started": "2024-04-17T19:24:31.802895Z",
          "shell.execute_reply": "2024-04-17T19:24:31.813037Z"
        },
        "trusted": true,
        "id": "dIMxxYYkz9fW"
      },
      "execution_count": null,
      "outputs": []
    },
    {
      "cell_type": "code",
      "source": [
        "# Training the model with callbacks for learning rate scheduling and early stopping\n",
        "history = model.fit(\n",
        "    train_generator,\n",
        "    steps_per_epoch=train_generator.n // train_generator.batch_size,\n",
        "    epochs=10,  # Increase the number of epochs\n",
        "    validation_data=valid_generator,\n",
        "    validation_steps=valid_generator.n // valid_generator.batch_size,\n",
        "    callbacks=[reduce_lr, early_stopping]\n",
        ")\n"
      ],
      "metadata": {
        "execution": {
          "iopub.status.busy": "2024-04-17T20:49:29.240441Z",
          "iopub.execute_input": "2024-04-17T20:49:29.240707Z",
          "iopub.status.idle": "2024-04-17T22:04:15.477981Z",
          "shell.execute_reply.started": "2024-04-17T20:49:29.240683Z",
          "shell.execute_reply": "2024-04-17T22:04:15.476854Z"
        },
        "trusted": true,
        "id": "SR1Rh23Ez9fW"
      },
      "execution_count": null,
      "outputs": []
    },
    {
      "cell_type": "code",
      "source": [
        "import numpy as np\n",
        "from tensorflow.keras.preprocessing import image\n",
        "import matplotlib.pyplot as plt\n",
        "\n",
        "# Load a single test image\n",
        "img_path = '/kaggle/input/new-plant-diseases-dataset/test/test/TomatoYellowCurlVirus3.JPG'  # Replace 'path_to_your_single_test_image.jpg' with the actual path to your image\n",
        "img = image.load_img(img_path, target_size=(224, 224))\n",
        "img_array = image.img_to_array(img)\n",
        "img_array = np.expand_dims(img_array, axis=0)  # Add batch dimension\n",
        "\n",
        "# Preprocess the image\n",
        "img_array = img_array / 255.  # Normalize the image\n",
        "\n",
        "# Predict the class probabilities\n",
        "predictions = model.predict(img_array)\n",
        "\n",
        "# Get the predicted class label\n",
        "predicted_class = np.argmax(predictions)\n",
        "\n",
        "# Define a dictionary mapping class indices to class labels\n",
        "class_labels = train_generator.class_indices\n",
        "\n",
        "# Inverse mapping to get the class label from the index\n",
        "predicted_label = [k for k, v in class_labels.items() if v == predicted_class][0]\n",
        "\n",
        "# Check if the predicted label contains the word \"healthy\"\n",
        "is_diseased = \"healthy\" not in predicted_label.lower()\n",
        "\n",
        "# Determine the final prediction\n",
        "prediction_result = \"Diseased\" if is_diseased else \"Non-Diseased\"\n",
        "\n",
        "# Display the image\n",
        "plt.imshow(img)\n",
        "plt.axis('off')\n",
        "plt.title(f'Original Label: {img_path.split(\"/\")[-1]}\\nPredicted Label: {predicted_label}\\nPrediction Result: {prediction_result}')\n",
        "plt.show()\n"
      ],
      "metadata": {
        "execution": {
          "iopub.status.busy": "2024-04-17T20:49:11.756665Z",
          "iopub.execute_input": "2024-04-17T20:49:11.757688Z",
          "iopub.status.idle": "2024-04-17T20:49:17.256171Z",
          "shell.execute_reply.started": "2024-04-17T20:49:11.757656Z",
          "shell.execute_reply": "2024-04-17T20:49:17.255143Z"
        },
        "trusted": true,
        "id": "SYdS-oaqz9fX"
      },
      "execution_count": null,
      "outputs": []
    },
    {
      "cell_type": "code",
      "source": [
        "import os\n",
        "import numpy as np\n",
        "from tensorflow.keras.preprocessing import image\n",
        "import matplotlib.pyplot as plt\n",
        "\n",
        "# Directory containing all test images\n",
        "test_dir = '/kaggle/input/new-plant-diseases-dataset/test/test'  # Replace with the actual path to your test directory\n",
        "\n",
        "# Get all image file names in the test directory\n",
        "test_image_files = os.listdir(test_dir)\n",
        "\n",
        "# Loop over each image file\n",
        "for img_file in test_image_files:\n",
        "    # Load the image\n",
        "    img_path = os.path.join(test_dir, img_file)\n",
        "    img = image.load_img(img_path, target_size=(224, 224))\n",
        "    img_array = image.img_to_array(img)\n",
        "    img_array = np.expand_dims(img_array, axis=0)  # Add batch dimension\n",
        "\n",
        "    # Preprocess the image\n",
        "    img_array = img_array / 255.  # Normalize the image\n",
        "\n",
        "    # Predict the class probabilities\n",
        "    predictions = model.predict(img_array)\n",
        "\n",
        "    # Get the predicted class label\n",
        "    predicted_class = np.argmax(predictions)\n",
        "\n",
        "    # Define a dictionary mapping class indices to class labels\n",
        "    class_labels = train_generator.class_indices\n",
        "\n",
        "    # Inverse mapping to get the class label from the index\n",
        "    predicted_label = [k for k, v in class_labels.items() if v == predicted_class][0]\n",
        "\n",
        "    # Check if the predicted label contains the word \"healthy\"\n",
        "    is_diseased = \"healthy\" not in predicted_label.lower()\n",
        "\n",
        "    # Determine the final prediction\n",
        "    prediction_result = \"Diseased\" if is_diseased else \"Non-Diseased\"\n",
        "\n",
        "    # Display the image along with prediction result\n",
        "    plt.imshow(img)\n",
        "    plt.axis('off')\n",
        "    plt.title(f'Original Label: {img_file}\\nPredicted Label: {predicted_label}\\nPrediction Result: {prediction_result}')\n",
        "    plt.show()\n"
      ],
      "metadata": {
        "execution": {
          "iopub.status.busy": "2024-04-17T20:49:17.25752Z",
          "iopub.execute_input": "2024-04-17T20:49:17.257836Z",
          "iopub.status.idle": "2024-04-17T20:49:29.238233Z",
          "shell.execute_reply.started": "2024-04-17T20:49:17.257808Z",
          "shell.execute_reply": "2024-04-17T20:49:29.23737Z"
        },
        "trusted": true,
        "id": "JLLmV2SSz9fX"
      },
      "execution_count": null,
      "outputs": []
    },
    {
      "cell_type": "code",
      "source": [],
      "metadata": {
        "id": "ZgV2lAnaz9fY"
      },
      "execution_count": null,
      "outputs": []
    }
  ]
}