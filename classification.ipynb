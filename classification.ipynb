{
  "metadata": {
    "kernelspec": {
      "language": "python",
      "display_name": "Python 3",
      "name": "python3"
    },
    "language_info": {
      "name": "python",
      "version": "3.10.13",
      "mimetype": "text/x-python",
      "codemirror_mode": {
        "name": "ipython",
        "version": 3
      },
      "pygments_lexer": "ipython3",
      "nbconvert_exporter": "python",
      "file_extension": ".py"
    },
    "kaggle": {
      "accelerator": "gpu",
      "dataSources": [
        {
          "sourceId": 182633,
          "sourceType": "datasetVersion",
          "datasetId": 78313
        }
      ],
      "dockerImageVersionId": 30665,
      "isInternetEnabled": true,
      "language": "python",
      "sourceType": "notebook",
      "isGpuEnabled": true
    },
    "colab": {
      "provenance": [],
      "include_colab_link": true
    }
  },
  "nbformat_minor": 0,
  "nbformat": 4,
  "cells": [
    {
      "cell_type": "markdown",
      "metadata": {
        "id": "view-in-github",
        "colab_type": "text"
      },
      "source": [
        "<a href=\"https://colab.research.google.com/github/neerajhon/project/blob/main/classification.ipynb\" target=\"_parent\"><img src=\"https://colab.research.google.com/assets/colab-badge.svg\" alt=\"Open In Colab\"/></a>"
      ]
    },
    {
      "source": [
        "\n",
        "# IMPORTANT: RUN THIS CELL IN ORDER TO IMPORT YOUR KAGGLE DATA SOURCES\n",
        "# TO THE CORRECT LOCATION (/kaggle/input) IN YOUR NOTEBOOK,\n",
        "# THEN FEEL FREE TO DELETE THIS CELL.\n",
        "# NOTE: THIS NOTEBOOK ENVIRONMENT DIFFERS FROM KAGGLE'S PYTHON\n",
        "# ENVIRONMENT SO THERE MAY BE MISSING LIBRARIES USED BY YOUR\n",
        "# NOTEBOOK.\n",
        "\n",
        "import os\n",
        "import sys\n",
        "from tempfile import NamedTemporaryFile\n",
        "from urllib.request import urlopen\n",
        "from urllib.parse import unquote, urlparse\n",
        "from urllib.error import HTTPError\n",
        "from zipfile import ZipFile\n",
        "import tarfile\n",
        "import shutil\n",
        "\n",
        "CHUNK_SIZE = 40960\n",
        "DATA_SOURCE_MAPPING = 'new-plant-diseases-dataset:https%3A%2F%2Fstorage.googleapis.com%2Fkaggle-data-sets%2F78313%2F182633%2Fbundle%2Farchive.zip%3FX-Goog-Algorithm%3DGOOG4-RSA-SHA256%26X-Goog-Credential%3Dgcp-kaggle-com%2540kaggle-161607.iam.gserviceaccount.com%252F20240427%252Fauto%252Fstorage%252Fgoog4_request%26X-Goog-Date%3D20240427T035243Z%26X-Goog-Expires%3D259200%26X-Goog-SignedHeaders%3Dhost%26X-Goog-Signature%3D0cf89065d1cebe3a1341171e9e6b1b4671ac1dc480dec6fb225d59376fca230a428fb789bf3a4384a1415d9cdd10e49e7b351695d8db4915a4842f4bd5306c9607ccdd9dd06c1947d051fee1842940ee598e4b92822fdcd7094f788cee24176cf881a51e63b5ec470cdb934e0d14142f2e39202a7fa5d76933b7546beface0f7997ad014cf6f5990608cda536da6f091fd1282897b56407ab8266c36b27218c876a29b782f64dd19911c8883c1c7f13e9c35dae1baf8e83a2666b1cc064e932643110de0f82aaf2a7125a8cacc3a296122900c470738d78dc425fb0946ae9854399ed031ab575daeb2526ee0b9676c53a31fbb341e50094718ad3ab765d78be4'\n",
        "\n",
        "KAGGLE_INPUT_PATH='/kaggle/input'\n",
        "KAGGLE_WORKING_PATH='/kaggle/working'\n",
        "KAGGLE_SYMLINK='kaggle'\n",
        "\n",
        "!umount /kaggle/input/ 2> /dev/null\n",
        "shutil.rmtree('/kaggle/input', ignore_errors=True)\n",
        "os.makedirs(KAGGLE_INPUT_PATH, 0o777, exist_ok=True)\n",
        "os.makedirs(KAGGLE_WORKING_PATH, 0o777, exist_ok=True)\n",
        "\n",
        "try:\n",
        "  os.symlink(KAGGLE_INPUT_PATH, os.path.join(\"..\", 'input'), target_is_directory=True)\n",
        "except FileExistsError:\n",
        "  pass\n",
        "try:\n",
        "  os.symlink(KAGGLE_WORKING_PATH, os.path.join(\"..\", 'working'), target_is_directory=True)\n",
        "except FileExistsError:\n",
        "  pass\n",
        "\n",
        "for data_source_mapping in DATA_SOURCE_MAPPING.split(','):\n",
        "    directory, download_url_encoded = data_source_mapping.split(':')\n",
        "    download_url = unquote(download_url_encoded)\n",
        "    filename = urlparse(download_url).path\n",
        "    destination_path = os.path.join(KAGGLE_INPUT_PATH, directory)\n",
        "    try:\n",
        "        with urlopen(download_url) as fileres, NamedTemporaryFile() as tfile:\n",
        "            total_length = fileres.headers['content-length']\n",
        "            print(f'Downloading {directory}, {total_length} bytes compressed')\n",
        "            dl = 0\n",
        "            data = fileres.read(CHUNK_SIZE)\n",
        "            while len(data) > 0:\n",
        "                dl += len(data)\n",
        "                tfile.write(data)\n",
        "                done = int(50 * dl / int(total_length))\n",
        "                sys.stdout.write(f\"\\r[{'=' * done}{' ' * (50-done)}] {dl} bytes downloaded\")\n",
        "                sys.stdout.flush()\n",
        "                data = fileres.read(CHUNK_SIZE)\n",
        "            if filename.endswith('.zip'):\n",
        "              with ZipFile(tfile) as zfile:\n",
        "                zfile.extractall(destination_path)\n",
        "            else:\n",
        "              with tarfile.open(tfile.name) as tarfile:\n",
        "                tarfile.extractall(destination_path)\n",
        "            print(f'\\nDownloaded and uncompressed: {directory}')\n",
        "    except HTTPError as e:\n",
        "        print(f'Failed to load (likely expired) {download_url} to path {destination_path}')\n",
        "        continue\n",
        "    except OSError as e:\n",
        "        print(f'Failed to load {download_url} to path {destination_path}')\n",
        "        continue\n",
        "\n",
        "print('Data source import complete.')\n"
      ],
      "metadata": {
        "id": "Pgpo7DLnrygn"
      },
      "cell_type": "code",
      "outputs": [],
      "execution_count": null
    },
    {
      "cell_type": "code",
      "source": [
        "!pip install torchsummary"
      ],
      "metadata": {
        "execution": {
          "iopub.status.busy": "2024-04-17T06:43:52.383072Z",
          "iopub.execute_input": "2024-04-17T06:43:52.383413Z",
          "iopub.status.idle": "2024-04-17T06:44:06.054359Z",
          "shell.execute_reply.started": "2024-04-17T06:43:52.383385Z",
          "shell.execute_reply": "2024-04-17T06:44:06.053395Z"
        },
        "trusted": true,
        "id": "jebtDvbarygv"
      },
      "execution_count": null,
      "outputs": []
    },
    {
      "cell_type": "code",
      "source": [
        "import os                       # for working with files\n",
        "import numpy as np              # for numerical computationss\n",
        "import pandas as pd             # for working with dataframes\n",
        "import torch                    # Pytorch module\n",
        "import matplotlib.pyplot as plt # for plotting informations on graph and images using tensors\n",
        "import torch.nn as nn           # for creating  neural networks\n",
        "from torch.utils.data import DataLoader # for dataloaders\n",
        "from PIL import Image           # for checking images\n",
        "import torch.nn.functional as F # for functions for calculating loss\n",
        "import torchvision.transforms as transforms   # for transforming images into tensors\n",
        "from torchvision.utils import make_grid       # for data checking\n",
        "from torchvision.datasets import ImageFolder  # for working with classes and images\n",
        "from torchsummary import summary              # for getting the summary of our model\n",
        "\n",
        "%matplotlib inline"
      ],
      "metadata": {
        "execution": {
          "iopub.status.busy": "2024-04-17T06:44:06.05663Z",
          "iopub.execute_input": "2024-04-17T06:44:06.056966Z",
          "iopub.status.idle": "2024-04-17T06:44:12.881528Z",
          "shell.execute_reply.started": "2024-04-17T06:44:06.056938Z",
          "shell.execute_reply": "2024-04-17T06:44:12.88073Z"
        },
        "trusted": true,
        "id": "pEiiQ32Arygx"
      },
      "execution_count": null,
      "outputs": []
    },
    {
      "cell_type": "code",
      "source": [
        "data_dir = \"../input/new-plant-diseases-dataset/New Plant Diseases Dataset(Augmented)/New Plant Diseases Dataset(Augmented)\"\n",
        "train_dir = data_dir + \"/train\"\n",
        "valid_dir = data_dir + \"/valid\"\n",
        "diseases = os.listdir(train_dir)"
      ],
      "metadata": {
        "execution": {
          "iopub.status.busy": "2024-04-17T06:44:12.882782Z",
          "iopub.execute_input": "2024-04-17T06:44:12.883326Z",
          "iopub.status.idle": "2024-04-17T06:44:12.897797Z",
          "shell.execute_reply.started": "2024-04-17T06:44:12.883291Z",
          "shell.execute_reply": "2024-04-17T06:44:12.897029Z"
        },
        "trusted": true,
        "id": "Fyc92byBrygy"
      },
      "execution_count": null,
      "outputs": []
    },
    {
      "cell_type": "code",
      "source": [
        "# printing the disease names\n",
        "print(diseases)"
      ],
      "metadata": {
        "execution": {
          "iopub.status.busy": "2024-04-17T06:44:12.899778Z",
          "iopub.execute_input": "2024-04-17T06:44:12.900049Z",
          "iopub.status.idle": "2024-04-17T06:44:12.905108Z",
          "shell.execute_reply.started": "2024-04-17T06:44:12.900026Z",
          "shell.execute_reply": "2024-04-17T06:44:12.904129Z"
        },
        "trusted": true,
        "id": "QA7WeSe8rygz"
      },
      "execution_count": null,
      "outputs": []
    },
    {
      "cell_type": "code",
      "source": [
        "print(\"Total disease classes are: {}\".format(len(diseases)))"
      ],
      "metadata": {
        "execution": {
          "iopub.status.busy": "2024-04-17T06:44:12.906513Z",
          "iopub.execute_input": "2024-04-17T06:44:12.906985Z",
          "iopub.status.idle": "2024-04-17T06:44:12.916762Z",
          "shell.execute_reply.started": "2024-04-17T06:44:12.906954Z",
          "shell.execute_reply": "2024-04-17T06:44:12.915208Z"
        },
        "trusted": true,
        "id": "0Bcg-I_jryg0"
      },
      "execution_count": null,
      "outputs": []
    },
    {
      "cell_type": "code",
      "source": [
        "plants = []\n",
        "NumberOfDiseases = 0\n",
        "for plant in diseases:\n",
        "    if plant.split('___')[0] not in plants:\n",
        "        plants.append(plant.split('___')[0])\n",
        "    if plant.split('___')[1] != 'healthy':\n",
        "        NumberOfDiseases += 1"
      ],
      "metadata": {
        "execution": {
          "iopub.status.busy": "2024-04-17T06:44:12.917769Z",
          "iopub.execute_input": "2024-04-17T06:44:12.918021Z",
          "iopub.status.idle": "2024-04-17T06:44:12.927311Z",
          "shell.execute_reply.started": "2024-04-17T06:44:12.917999Z",
          "shell.execute_reply": "2024-04-17T06:44:12.926483Z"
        },
        "trusted": true,
        "id": "fgpommSAryg1"
      },
      "execution_count": null,
      "outputs": []
    },
    {
      "cell_type": "code",
      "source": [
        "# unique plants in the dataset\n",
        "print(f\"Unique Plants are: \\n{plants}\")"
      ],
      "metadata": {
        "execution": {
          "iopub.status.busy": "2024-04-17T06:44:12.928331Z",
          "iopub.execute_input": "2024-04-17T06:44:12.92859Z",
          "iopub.status.idle": "2024-04-17T06:44:12.939214Z",
          "shell.execute_reply.started": "2024-04-17T06:44:12.928568Z",
          "shell.execute_reply": "2024-04-17T06:44:12.938151Z"
        },
        "trusted": true,
        "id": "0fllmNv1ryg3"
      },
      "execution_count": null,
      "outputs": []
    },
    {
      "cell_type": "code",
      "source": [
        "# number of unique plants\n",
        "print(\"Number of plants: {}\".format(len(plants)))"
      ],
      "metadata": {
        "execution": {
          "iopub.status.busy": "2024-04-17T06:44:12.940299Z",
          "iopub.execute_input": "2024-04-17T06:44:12.94055Z",
          "iopub.status.idle": "2024-04-17T06:44:12.95075Z",
          "shell.execute_reply.started": "2024-04-17T06:44:12.940529Z",
          "shell.execute_reply": "2024-04-17T06:44:12.949856Z"
        },
        "trusted": true,
        "id": "u1VbysViryg4"
      },
      "execution_count": null,
      "outputs": []
    },
    {
      "cell_type": "code",
      "source": [
        "# number of unique diseases\n",
        "print(\"Number of diseases: {}\".format(NumberOfDiseases))"
      ],
      "metadata": {
        "execution": {
          "iopub.status.busy": "2024-04-17T06:44:12.951886Z",
          "iopub.execute_input": "2024-04-17T06:44:12.952154Z",
          "iopub.status.idle": "2024-04-17T06:44:12.961435Z",
          "shell.execute_reply.started": "2024-04-17T06:44:12.952132Z",
          "shell.execute_reply": "2024-04-17T06:44:12.960517Z"
        },
        "trusted": true,
        "id": "qOhqEmzbryg5"
      },
      "execution_count": null,
      "outputs": []
    },
    {
      "cell_type": "code",
      "source": [
        "# Number of images for each disease\n",
        "nums = {}\n",
        "for disease in diseases:\n",
        "    nums[disease] = len(os.listdir(train_dir + '/' + disease))\n",
        "\n",
        "# converting the nums dictionary to pandas dataframe passing index as plant name and number of images as column\n",
        "\n",
        "img_per_class = pd.DataFrame(nums.values(), index=nums.keys(), columns=[\"no. of images\"])\n",
        "img_per_class"
      ],
      "metadata": {
        "execution": {
          "iopub.status.busy": "2024-04-17T06:44:12.964737Z",
          "iopub.execute_input": "2024-04-17T06:44:12.96543Z",
          "iopub.status.idle": "2024-04-17T06:44:16.02456Z",
          "shell.execute_reply.started": "2024-04-17T06:44:12.965393Z",
          "shell.execute_reply": "2024-04-17T06:44:16.023622Z"
        },
        "trusted": true,
        "id": "9SnCV0PIryg5"
      },
      "execution_count": null,
      "outputs": []
    },
    {
      "cell_type": "code",
      "source": [
        "# plotting number of images available for each disease\n",
        "index = [n for n in range(38)]\n",
        "plt.figure(figsize=(20, 5))\n",
        "plt.bar(index, [n for n in nums.values()], width=0.3)\n",
        "plt.xlabel('Plants/Diseases', fontsize=10)\n",
        "plt.ylabel('No of images available', fontsize=10)\n",
        "plt.xticks(index, diseases, fontsize=5, rotation=90)\n",
        "plt.title('Images per each class of plant disease')"
      ],
      "metadata": {
        "execution": {
          "iopub.status.busy": "2024-04-17T06:44:16.025627Z",
          "iopub.execute_input": "2024-04-17T06:44:16.02596Z",
          "iopub.status.idle": "2024-04-17T06:44:16.762348Z",
          "shell.execute_reply.started": "2024-04-17T06:44:16.025925Z",
          "shell.execute_reply": "2024-04-17T06:44:16.76137Z"
        },
        "trusted": true,
        "id": "cMIAzDtnryg6"
      },
      "execution_count": null,
      "outputs": []
    },
    {
      "cell_type": "code",
      "source": [
        "n_train = 0\n",
        "for value in nums.values():\n",
        "    n_train += value\n",
        "print(f\"There are {n_train} images for training\")"
      ],
      "metadata": {
        "execution": {
          "iopub.status.busy": "2024-04-17T06:44:16.76362Z",
          "iopub.execute_input": "2024-04-17T06:44:16.764275Z",
          "iopub.status.idle": "2024-04-17T06:44:16.769483Z",
          "shell.execute_reply.started": "2024-04-17T06:44:16.764241Z",
          "shell.execute_reply": "2024-04-17T06:44:16.768471Z"
        },
        "trusted": true,
        "id": "Ab0qvqY3ryg7"
      },
      "execution_count": null,
      "outputs": []
    },
    {
      "cell_type": "code",
      "source": [
        "# datasets for validation and training\n",
        "train = ImageFolder(train_dir, transform=transforms.ToTensor())\n",
        "valid = ImageFolder(valid_dir, transform=transforms.ToTensor())"
      ],
      "metadata": {
        "execution": {
          "iopub.status.busy": "2024-04-17T06:44:16.77081Z",
          "iopub.execute_input": "2024-04-17T06:44:16.771091Z",
          "iopub.status.idle": "2024-04-17T06:44:48.641783Z",
          "shell.execute_reply.started": "2024-04-17T06:44:16.771061Z",
          "shell.execute_reply": "2024-04-17T06:44:48.640747Z"
        },
        "trusted": true,
        "id": "W0kovCdBryg7"
      },
      "execution_count": null,
      "outputs": []
    },
    {
      "cell_type": "code",
      "source": [
        "img, label = train[0]\n",
        "print(img.shape, label)"
      ],
      "metadata": {
        "execution": {
          "iopub.status.busy": "2024-04-17T06:44:48.643048Z",
          "iopub.execute_input": "2024-04-17T06:44:48.643329Z",
          "iopub.status.idle": "2024-04-17T06:44:48.703293Z",
          "shell.execute_reply.started": "2024-04-17T06:44:48.643306Z",
          "shell.execute_reply": "2024-04-17T06:44:48.702305Z"
        },
        "trusted": true,
        "id": "i8OrlSqWryg7"
      },
      "execution_count": null,
      "outputs": []
    },
    {
      "cell_type": "code",
      "source": [
        "# total number of classes in train set\n",
        "len(train.classes)"
      ],
      "metadata": {
        "execution": {
          "iopub.status.busy": "2024-04-17T06:44:48.706055Z",
          "iopub.execute_input": "2024-04-17T06:44:48.70684Z",
          "iopub.status.idle": "2024-04-17T06:44:48.712599Z",
          "shell.execute_reply.started": "2024-04-17T06:44:48.706804Z",
          "shell.execute_reply": "2024-04-17T06:44:48.71161Z"
        },
        "trusted": true,
        "id": "eMzJo3iYryg8"
      },
      "execution_count": null,
      "outputs": []
    },
    {
      "cell_type": "code",
      "source": [
        "# for checking some images from training dataset\n",
        "def show_image(image, label):\n",
        "    print(\"Label :\" + train.classes[label] + \"(\" + str(label) + \")\")\n",
        "    plt.imshow(image.permute(1, 2, 0))"
      ],
      "metadata": {
        "execution": {
          "iopub.status.busy": "2024-04-17T06:44:48.713767Z",
          "iopub.execute_input": "2024-04-17T06:44:48.71442Z",
          "iopub.status.idle": "2024-04-17T06:44:48.720339Z",
          "shell.execute_reply.started": "2024-04-17T06:44:48.714392Z",
          "shell.execute_reply": "2024-04-17T06:44:48.719499Z"
        },
        "trusted": true,
        "id": "As2L4gaJryg8"
      },
      "execution_count": null,
      "outputs": []
    },
    {
      "cell_type": "code",
      "source": [
        "show_image(*train[0])"
      ],
      "metadata": {
        "execution": {
          "iopub.status.busy": "2024-04-17T06:44:48.721325Z",
          "iopub.execute_input": "2024-04-17T06:44:48.72158Z"
        },
        "trusted": true,
        "id": "xEMe1tVOryg8"
      },
      "execution_count": null,
      "outputs": []
    },
    {
      "cell_type": "code",
      "source": [
        "show_image(*train[70000])"
      ],
      "metadata": {
        "execution": {
          "iopub.status.idle": "2024-04-17T06:44:49.452426Z",
          "shell.execute_reply.started": "2024-04-17T06:44:49.018818Z",
          "shell.execute_reply": "2024-04-17T06:44:49.451497Z"
        },
        "trusted": true,
        "id": "MynebtN3ryg9"
      },
      "execution_count": null,
      "outputs": []
    },
    {
      "cell_type": "code",
      "source": [
        "show_image(*train[30000])"
      ],
      "metadata": {
        "execution": {
          "iopub.status.busy": "2024-04-17T06:44:49.453852Z",
          "iopub.execute_input": "2024-04-17T06:44:49.45423Z",
          "iopub.status.idle": "2024-04-17T06:44:49.731602Z",
          "shell.execute_reply.started": "2024-04-17T06:44:49.454197Z",
          "shell.execute_reply": "2024-04-17T06:44:49.730742Z"
        },
        "trusted": true,
        "id": "zGlRhS3Nryg9"
      },
      "execution_count": null,
      "outputs": []
    },
    {
      "cell_type": "code",
      "source": [
        "# Setting the seed value\n",
        "random_seed = 7\n",
        "torch.manual_seed(random_seed)"
      ],
      "metadata": {
        "execution": {
          "iopub.status.busy": "2024-04-17T06:44:49.732878Z",
          "iopub.execute_input": "2024-04-17T06:44:49.733237Z",
          "iopub.status.idle": "2024-04-17T06:44:49.741688Z",
          "shell.execute_reply.started": "2024-04-17T06:44:49.733205Z",
          "shell.execute_reply": "2024-04-17T06:44:49.740738Z"
        },
        "trusted": true,
        "id": "_MSas9Ssryg9"
      },
      "execution_count": null,
      "outputs": []
    },
    {
      "cell_type": "code",
      "source": [
        "# setting the batch size\n",
        "batch_size = 32"
      ],
      "metadata": {
        "execution": {
          "iopub.status.busy": "2024-04-17T06:44:49.743034Z",
          "iopub.execute_input": "2024-04-17T06:44:49.743339Z",
          "iopub.status.idle": "2024-04-17T06:44:49.747567Z",
          "shell.execute_reply.started": "2024-04-17T06:44:49.743315Z",
          "shell.execute_reply": "2024-04-17T06:44:49.7466Z"
        },
        "trusted": true,
        "id": "yOQ-TRm9ryg9"
      },
      "execution_count": null,
      "outputs": []
    },
    {
      "cell_type": "code",
      "source": [
        "# DataLoaders for training and validation\n",
        "train_dl = DataLoader(train, batch_size, shuffle=True, num_workers=2, pin_memory=True)\n",
        "valid_dl = DataLoader(valid, batch_size, num_workers=2, pin_memory=True)"
      ],
      "metadata": {
        "execution": {
          "iopub.status.busy": "2024-04-17T06:44:49.748824Z",
          "iopub.execute_input": "2024-04-17T06:44:49.749339Z",
          "iopub.status.idle": "2024-04-17T06:44:49.758481Z",
          "shell.execute_reply.started": "2024-04-17T06:44:49.749307Z",
          "shell.execute_reply": "2024-04-17T06:44:49.757659Z"
        },
        "trusted": true,
        "id": "k9KdTCeYryg-"
      },
      "execution_count": null,
      "outputs": []
    },
    {
      "cell_type": "code",
      "source": [
        "# helper function to show a batch of training instances\n",
        "def show_batch(data):\n",
        "    for images, labels in data:\n",
        "        fig, ax = plt.subplots(figsize=(30, 30))\n",
        "        ax.set_xticks([]); ax.set_yticks([])\n",
        "        ax.imshow(make_grid(images, nrow=8).permute(1, 2, 0))\n",
        "        break"
      ],
      "metadata": {
        "execution": {
          "iopub.status.busy": "2024-04-17T06:44:49.759504Z",
          "iopub.execute_input": "2024-04-17T06:44:49.759785Z",
          "iopub.status.idle": "2024-04-17T06:44:49.768336Z",
          "shell.execute_reply.started": "2024-04-17T06:44:49.759763Z",
          "shell.execute_reply": "2024-04-17T06:44:49.767562Z"
        },
        "trusted": true,
        "id": "sazPobCPryg-"
      },
      "execution_count": null,
      "outputs": []
    },
    {
      "cell_type": "code",
      "source": [
        "# Images for first batch of training\n",
        "show_batch(train_dl)"
      ],
      "metadata": {
        "execution": {
          "iopub.status.busy": "2024-04-17T06:44:49.769413Z",
          "iopub.execute_input": "2024-04-17T06:44:49.769668Z",
          "iopub.status.idle": "2024-04-17T06:44:53.245613Z",
          "shell.execute_reply.started": "2024-04-17T06:44:49.769647Z",
          "shell.execute_reply": "2024-04-17T06:44:53.243865Z"
        },
        "trusted": true,
        "id": "TZgHbaaBryg-"
      },
      "execution_count": null,
      "outputs": []
    },
    {
      "cell_type": "code",
      "source": [
        "# for moving data into GPU (if available)\n",
        "def get_default_device():\n",
        "    \"\"\"Pick GPU if available, else CPU\"\"\"\n",
        "    if torch.cuda.is_available:\n",
        "        return torch.device(\"cuda\")\n",
        "    else:\n",
        "        return torch.device(\"cpu\")\n",
        "\n",
        "# for moving data to device (CPU or GPU)\n",
        "def to_device(data, device):\n",
        "    \"\"\"Move tensor(s) to chosen device\"\"\"\n",
        "    if isinstance(data, (list,tuple)):\n",
        "        return [to_device(x, device) for x in data]\n",
        "    return data.to(device, non_blocking=True)\n",
        "\n",
        "# for loading in the device (GPU if available else CPU)\n",
        "class DeviceDataLoader():\n",
        "    \"\"\"Wrap a dataloader to move data to a device\"\"\"\n",
        "    def __init__(self, dl, device):\n",
        "        self.dl = dl\n",
        "        self.device = device\n",
        "\n",
        "    def __iter__(self):\n",
        "        \"\"\"Yield a batch of data after moving it to device\"\"\"\n",
        "        for b in self.dl:\n",
        "            yield to_device(b, self.device)\n",
        "\n",
        "    def __len__(self):\n",
        "        \"\"\"Number of batches\"\"\"\n",
        "        return len(self.dl)"
      ],
      "metadata": {
        "execution": {
          "iopub.status.busy": "2024-04-17T06:44:53.247322Z",
          "iopub.execute_input": "2024-04-17T06:44:53.247606Z",
          "iopub.status.idle": "2024-04-17T06:44:53.256582Z",
          "shell.execute_reply.started": "2024-04-17T06:44:53.247574Z",
          "shell.execute_reply": "2024-04-17T06:44:53.255725Z"
        },
        "trusted": true,
        "id": "QQ86IAimryg-"
      },
      "execution_count": null,
      "outputs": []
    },
    {
      "cell_type": "code",
      "source": [
        "device = get_default_device()\n",
        "device"
      ],
      "metadata": {
        "execution": {
          "iopub.status.busy": "2024-04-17T06:44:53.257779Z",
          "iopub.execute_input": "2024-04-17T06:44:53.258059Z",
          "iopub.status.idle": "2024-04-17T06:44:53.269351Z",
          "shell.execute_reply.started": "2024-04-17T06:44:53.258037Z",
          "shell.execute_reply": "2024-04-17T06:44:53.268425Z"
        },
        "trusted": true,
        "id": "kw1jr859ryg_"
      },
      "execution_count": null,
      "outputs": []
    },
    {
      "cell_type": "code",
      "source": [
        "# Moving data into GPU\n",
        "train_dl = DeviceDataLoader(train_dl, device)\n",
        "valid_dl = DeviceDataLoader(valid_dl, device)"
      ],
      "metadata": {
        "execution": {
          "iopub.status.busy": "2024-04-17T06:44:53.270695Z",
          "iopub.execute_input": "2024-04-17T06:44:53.271569Z",
          "iopub.status.idle": "2024-04-17T06:44:53.277744Z",
          "shell.execute_reply.started": "2024-04-17T06:44:53.271538Z",
          "shell.execute_reply": "2024-04-17T06:44:53.276733Z"
        },
        "trusted": true,
        "id": "zSpU6Ebsryg_"
      },
      "execution_count": null,
      "outputs": []
    },
    {
      "cell_type": "code",
      "source": [
        "class SimpleResidualBlock(nn.Module):\n",
        "    def __init__(self):\n",
        "        super().__init__()\n",
        "        self.conv1 = nn.Conv2d(in_channels=3, out_channels=3, kernel_size=3, stride=1, padding=1)\n",
        "        self.relu1 = nn.ReLU()\n",
        "        self.conv2 = nn.Conv2d(in_channels=3, out_channels=3, kernel_size=3, stride=1, padding=1)\n",
        "        self.relu2 = nn.ReLU()\n",
        "\n",
        "    def forward(self, x):\n",
        "        out = self.conv1(x)\n",
        "        out = self.relu1(out)\n",
        "        out = self.conv2(out)\n",
        "        return self.relu2(out) + x # ReLU can be applied before or after adding the input"
      ],
      "metadata": {
        "execution": {
          "iopub.status.busy": "2024-04-17T06:44:53.285169Z",
          "iopub.execute_input": "2024-04-17T06:44:53.285477Z",
          "iopub.status.idle": "2024-04-17T06:44:53.293302Z",
          "shell.execute_reply.started": "2024-04-17T06:44:53.285451Z",
          "shell.execute_reply": "2024-04-17T06:44:53.29245Z"
        },
        "trusted": true,
        "id": "QeICGCckryg_"
      },
      "execution_count": null,
      "outputs": []
    },
    {
      "cell_type": "code",
      "source": [
        "# for calculating the accuracy\n",
        "def accuracy(outputs, labels):\n",
        "    _, preds = torch.max(outputs, dim=1)\n",
        "    return torch.tensor(torch.sum(preds == labels).item() / len(preds))\n",
        "\n",
        "\n",
        "# base class for the model\n",
        "class ImageClassificationBase(nn.Module):\n",
        "\n",
        "    def training_step(self, batch):#to figure out how wrong the model is going after training/validation\n",
        "        images, labels = batch\n",
        "        out = self(images)                  # Generate predictions\n",
        "        loss = F.cross_entropy(out, labels) # Calculate loss\n",
        "        return loss\n",
        "\n",
        "    def validation_step(self, batch):#single validation step\n",
        "        images, labels = batch\n",
        "        out = self(images)                   # Generate prediction\n",
        "        loss = F.cross_entropy(out, labels)  # Calculate loss\n",
        "        acc = accuracy(out, labels)          # Calculate accuracy\n",
        "        return {\"val_loss\": loss.detach(), \"val_accuracy\": acc}\n",
        "\n",
        "    def validation_epoch_end(self, outputs):\n",
        "        batch_losses = [x[\"val_loss\"] for x in outputs]\n",
        "        batch_accuracy = [x[\"val_accuracy\"] for x in outputs]\n",
        "        epoch_loss = torch.stack(batch_losses).mean()       # Combine loss\n",
        "        epoch_accuracy = torch.stack(batch_accuracy).mean()\n",
        "        return {\"val_loss\": epoch_loss, \"val_accuracy\": epoch_accuracy} # Combine accuracies\n",
        "\n",
        "    def epoch_end(self, epoch, result):\n",
        "        print(\"Epoch [{}], last_lr: {:.5f}, train_loss: {:.4f}, val_loss: {:.4f}, val_acc: {:.4f}\".format(\n",
        "            epoch, result['lrs'][-1], result['train_loss'], result['val_loss'], result['val_accuracy']))\n"
      ],
      "metadata": {
        "execution": {
          "iopub.status.busy": "2024-04-17T06:44:53.294435Z",
          "iopub.execute_input": "2024-04-17T06:44:53.29477Z",
          "iopub.status.idle": "2024-04-17T06:44:53.308091Z",
          "shell.execute_reply.started": "2024-04-17T06:44:53.294712Z",
          "shell.execute_reply": "2024-04-17T06:44:53.307153Z"
        },
        "trusted": true,
        "id": "ymJo1172ryhA"
      },
      "execution_count": null,
      "outputs": []
    },
    {
      "cell_type": "code",
      "source": [
        "# Architecture for training\n",
        "\n",
        "# convolution block with BatchNormalization\n",
        "def ConvBlock(in_channels, out_channels, pool=False):\n",
        "    layers = [nn.Conv2d(in_channels, out_channels, kernel_size=3, padding=1),\n",
        "             nn.BatchNorm2d(out_channels),\n",
        "             nn.ReLU(inplace=True)]\n",
        "    if pool:\n",
        "        layers.append(nn.MaxPool2d(4))\n",
        "    return nn.Sequential(*layers)\n",
        "\n",
        "\n",
        "# resnet architecture\n",
        "class ResNet9(ImageClassificationBase):\n",
        "    def __init__(self, in_channels, num_diseases):\n",
        "        super().__init__()\n",
        "\n",
        "        self.conv1 = ConvBlock(in_channels, 64)\n",
        "        self.conv2 = ConvBlock(64, 128, pool=True) # out_dim : 128 x 64 x 64\n",
        "        self.res1 = nn.Sequential(ConvBlock(128, 128), ConvBlock(128, 128))\n",
        "\n",
        "        self.conv3 = ConvBlock(128, 256, pool=True) # out_dim : 256 x 16 x 16\n",
        "        self.conv4 = ConvBlock(256, 512, pool=True) # out_dim : 512 x 4 x 44\n",
        "        self.res2 = nn.Sequential(ConvBlock(512, 512), ConvBlock(512, 512))\n",
        "\n",
        "        self.classifier = nn.Sequential(nn.MaxPool2d(4),\n",
        "                                       nn.Flatten(),\n",
        "                                       nn.Linear(512, num_diseases))\n",
        "\n",
        "    def forward(self, xb): # xb is the loaded batch\n",
        "        out = self.conv1(xb)\n",
        "        out = self.conv2(out)\n",
        "        out = self.res1(out) + out\n",
        "        out = self.conv3(out)\n",
        "        out = self.conv4(out)\n",
        "        out = self.res2(out) + out\n",
        "        out = self.classifier(out)\n",
        "        return out"
      ],
      "metadata": {
        "execution": {
          "iopub.status.busy": "2024-04-17T06:44:53.309056Z",
          "iopub.execute_input": "2024-04-17T06:44:53.309307Z",
          "iopub.status.idle": "2024-04-17T06:44:53.323524Z",
          "shell.execute_reply.started": "2024-04-17T06:44:53.309284Z",
          "shell.execute_reply": "2024-04-17T06:44:53.322597Z"
        },
        "trusted": true,
        "id": "oPxG8bjyryhA"
      },
      "execution_count": null,
      "outputs": []
    },
    {
      "cell_type": "code",
      "source": [
        "# defining the model and moving it to the GPU\n",
        "model = to_device(ResNet9(3, len(train.classes)), device)\n",
        "model"
      ],
      "metadata": {
        "execution": {
          "iopub.status.busy": "2024-04-17T06:44:53.324609Z",
          "iopub.execute_input": "2024-04-17T06:44:53.32488Z",
          "iopub.status.idle": "2024-04-17T06:44:53.412519Z",
          "shell.execute_reply.started": "2024-04-17T06:44:53.324853Z",
          "shell.execute_reply": "2024-04-17T06:44:53.411588Z"
        },
        "trusted": true,
        "id": "wBnii7NVryhA"
      },
      "execution_count": null,
      "outputs": []
    },
    {
      "cell_type": "code",
      "source": [
        "# getting summary of the model\n",
        "INPUT_SHAPE = (3, 256, 256)\n",
        "print(summary(model.cuda(), (INPUT_SHAPE)))"
      ],
      "metadata": {
        "execution": {
          "iopub.status.busy": "2024-04-17T06:44:53.413715Z",
          "iopub.execute_input": "2024-04-17T06:44:53.413994Z",
          "iopub.status.idle": "2024-04-17T06:44:53.979624Z",
          "shell.execute_reply.started": "2024-04-17T06:44:53.413971Z",
          "shell.execute_reply": "2024-04-17T06:44:53.978643Z"
        },
        "trusted": true,
        "id": "w844UAxKryhB"
      },
      "execution_count": null,
      "outputs": []
    },
    {
      "cell_type": "code",
      "source": [
        "# for training\n",
        "@torch.no_grad()\n",
        "def evaluate(model, val_loader):\n",
        "    model.eval()\n",
        "    outputs = [model.validation_step(batch) for batch in val_loader]\n",
        "    return model.validation_epoch_end(outputs)\n",
        "\n",
        "\n",
        "def get_lr(optimizer):\n",
        "    for param_group in optimizer.param_groups:\n",
        "        return param_group['lr']\n",
        "\n",
        "\n",
        "def fit_OneCycle(epochs, max_lr, model, train_loader, val_loader, weight_decay=0,\n",
        "                grad_clip=None, opt_func=torch.optim.SGD):\n",
        "    torch.cuda.empty_cache()\n",
        "    history = []\n",
        "\n",
        "    optimizer = opt_func(model.parameters(), max_lr, weight_decay=weight_decay)\n",
        "    # scheduler for one cycle learniing rate\n",
        "    sched = torch.optim.lr_scheduler.OneCycleLR(optimizer, max_lr, epochs=epochs, steps_per_epoch=len(train_loader))\n",
        "\n",
        "\n",
        "    for epoch in range(epochs):\n",
        "        # Training\n",
        "        model.train()\n",
        "        train_losses = []\n",
        "        lrs = []\n",
        "        for batch in train_loader:\n",
        "            loss = model.training_step(batch)\n",
        "            train_losses.append(loss)\n",
        "            loss.backward()\n",
        "\n",
        "            # gradient clipping\n",
        "            if grad_clip:\n",
        "                nn.utils.clip_grad_value_(model.parameters(), grad_clip)\n",
        "\n",
        "            optimizer.step()\n",
        "            optimizer.zero_grad()\n",
        "\n",
        "            # recording and updating learning rates\n",
        "            lrs.append(get_lr(optimizer))\n",
        "            sched.step()\n",
        "\n",
        "\n",
        "        # validation\n",
        "        result = evaluate(model, val_loader)\n",
        "        result['train_loss'] = torch.stack(train_losses).mean().item()\n",
        "        result['lrs'] = lrs\n",
        "        model.epoch_end(epoch, result)\n",
        "        history.append(result)\n",
        "\n",
        "    return history"
      ],
      "metadata": {
        "execution": {
          "iopub.status.busy": "2024-04-17T06:44:53.980829Z",
          "iopub.execute_input": "2024-04-17T06:44:53.981092Z",
          "iopub.status.idle": "2024-04-17T06:44:53.992107Z",
          "shell.execute_reply.started": "2024-04-17T06:44:53.98107Z",
          "shell.execute_reply": "2024-04-17T06:44:53.991156Z"
        },
        "trusted": true,
        "id": "dw8rcn8PryhB"
      },
      "execution_count": null,
      "outputs": []
    },
    {
      "cell_type": "code",
      "source": [
        "%%time\n",
        "history = [evaluate(model, valid_dl)]\n",
        "history"
      ],
      "metadata": {
        "execution": {
          "iopub.status.busy": "2024-04-17T06:44:53.99341Z",
          "iopub.execute_input": "2024-04-17T06:44:53.9937Z",
          "iopub.status.idle": "2024-04-17T06:46:21.132845Z",
          "shell.execute_reply.started": "2024-04-17T06:44:53.99366Z",
          "shell.execute_reply": "2024-04-17T06:46:21.13153Z"
        },
        "trusted": true,
        "id": "jw5Cf4HzryhB"
      },
      "execution_count": null,
      "outputs": []
    },
    {
      "cell_type": "code",
      "source": [
        "epochs = 5\n",
        "max_lr = 0.01\n",
        "grad_clip = 0.1\n",
        "weight_decay = 1e-4\n",
        "opt_func = torch.optim.Adam"
      ],
      "metadata": {
        "execution": {
          "iopub.status.busy": "2024-04-17T06:46:21.134396Z",
          "iopub.execute_input": "2024-04-17T06:46:21.134741Z",
          "iopub.status.idle": "2024-04-17T06:46:21.139928Z",
          "shell.execute_reply.started": "2024-04-17T06:46:21.134706Z",
          "shell.execute_reply": "2024-04-17T06:46:21.138833Z"
        },
        "trusted": true,
        "id": "iIF9jpcXryhC"
      },
      "execution_count": null,
      "outputs": []
    },
    {
      "cell_type": "code",
      "source": [
        "%%time\n",
        "history += fit_OneCycle(epochs, max_lr, model, train_dl, valid_dl,\n",
        "                             grad_clip=grad_clip,\n",
        "                             weight_decay=1e-4,\n",
        "                             opt_func=opt_func)"
      ],
      "metadata": {
        "execution": {
          "iopub.status.busy": "2024-04-17T06:52:28.904366Z",
          "iopub.execute_input": "2024-04-17T06:52:28.905379Z",
          "iopub.status.idle": "2024-04-17T07:32:37.249848Z",
          "shell.execute_reply.started": "2024-04-17T06:52:28.905344Z",
          "shell.execute_reply": "2024-04-17T07:32:37.248616Z"
        },
        "trusted": true,
        "id": "-kd5Z8mIryhC"
      },
      "execution_count": null,
      "outputs": []
    },
    {
      "cell_type": "code",
      "source": [
        "def plot_accuracies(history):\n",
        "    accuracies = [x['val_accuracy'] for x in history]\n",
        "    plt.plot(accuracies, '-x')\n",
        "    plt.xlabel('epoch')\n",
        "    plt.ylabel('accuracy')\n",
        "    plt.title('Accuracy vs. No. of epochs');\n",
        "\n",
        "def plot_losses(history):\n",
        "    train_losses = [x.get('train_loss') for x in history]\n",
        "    val_losses = [x['val_loss'] for x in history]\n",
        "    plt.plot(train_losses, '-bx')\n",
        "    plt.plot(val_losses, '-rx')\n",
        "    plt.xlabel('epoch')\n",
        "    plt.ylabel('loss')\n",
        "    plt.legend(['Training', 'Validation'])\n",
        "    plt.title('Loss vs. No. of epochs');\n",
        "\n",
        "def plot_lrs(history):\n",
        "    lrs = np.concatenate([x.get('lrs', []) for x in history])\n",
        "    plt.plot(lrs)\n",
        "    plt.xlabel('Batch no.')\n",
        "    plt.ylabel('Learning rate')\n",
        "    plt.title('Learning Rate vs. Batch no.');"
      ],
      "metadata": {
        "execution": {
          "iopub.status.busy": "2024-04-17T07:38:24.937283Z",
          "iopub.execute_input": "2024-04-17T07:38:24.93845Z",
          "iopub.status.idle": "2024-04-17T07:38:24.948069Z",
          "shell.execute_reply.started": "2024-04-17T07:38:24.938406Z",
          "shell.execute_reply": "2024-04-17T07:38:24.946831Z"
        },
        "trusted": true,
        "id": "47OTsUMlryhC"
      },
      "execution_count": null,
      "outputs": []
    },
    {
      "cell_type": "code",
      "source": [
        "plot_accuracies(history)"
      ],
      "metadata": {
        "execution": {
          "iopub.status.busy": "2024-04-17T07:38:29.584405Z",
          "iopub.execute_input": "2024-04-17T07:38:29.584901Z",
          "iopub.status.idle": "2024-04-17T07:38:29.891604Z",
          "shell.execute_reply.started": "2024-04-17T07:38:29.58487Z",
          "shell.execute_reply": "2024-04-17T07:38:29.89071Z"
        },
        "trusted": true,
        "id": "gYQGm3N3ryhC"
      },
      "execution_count": null,
      "outputs": []
    },
    {
      "cell_type": "code",
      "source": [
        "plot_lrs(history)"
      ],
      "metadata": {
        "execution": {
          "iopub.status.busy": "2024-04-17T07:38:32.376403Z",
          "iopub.execute_input": "2024-04-17T07:38:32.376792Z",
          "iopub.status.idle": "2024-04-17T07:38:32.681834Z",
          "shell.execute_reply.started": "2024-04-17T07:38:32.376768Z",
          "shell.execute_reply": "2024-04-17T07:38:32.680897Z"
        },
        "trusted": true,
        "id": "qfL5tu85ryhO"
      },
      "execution_count": null,
      "outputs": []
    },
    {
      "cell_type": "code",
      "source": [
        "test_dir = \"../input/new-plant-diseases-dataset/test\"\n",
        "test = ImageFolder(test_dir, transform=transforms.ToTensor())"
      ],
      "metadata": {
        "execution": {
          "iopub.status.busy": "2024-04-17T07:38:35.309432Z",
          "iopub.execute_input": "2024-04-17T07:38:35.309916Z",
          "iopub.status.idle": "2024-04-17T07:38:35.329188Z",
          "shell.execute_reply.started": "2024-04-17T07:38:35.309885Z",
          "shell.execute_reply": "2024-04-17T07:38:35.328209Z"
        },
        "trusted": true,
        "id": "jBseuYfXryhO"
      },
      "execution_count": null,
      "outputs": []
    },
    {
      "cell_type": "code",
      "source": [
        "test_images = sorted(os.listdir(test_dir + '/test')) # since images in test folder are in alphabetical order\n",
        "test_images"
      ],
      "metadata": {
        "execution": {
          "iopub.status.busy": "2024-04-17T07:38:38.182471Z",
          "iopub.execute_input": "2024-04-17T07:38:38.182948Z",
          "iopub.status.idle": "2024-04-17T07:38:38.190463Z",
          "shell.execute_reply.started": "2024-04-17T07:38:38.182918Z",
          "shell.execute_reply": "2024-04-17T07:38:38.189423Z"
        },
        "trusted": true,
        "id": "NNnDolTEryhO"
      },
      "execution_count": null,
      "outputs": []
    },
    {
      "cell_type": "code",
      "source": [
        "def predict_image(img, model):\n",
        "    \"\"\"Converts image to array and return the predicted class\n",
        "        with highest probability\"\"\"\n",
        "    # Convert to a batch of 1\n",
        "    xb = to_device(img.unsqueeze(0), device)\n",
        "    # Get predictions from model\n",
        "    yb = model(xb)\n",
        "    # Pick index with highest probability\n",
        "    _, preds  = torch.max(yb, dim=1)\n",
        "    # Retrieve the class label\n",
        "\n",
        "    return train.classes[preds[0].item()]"
      ],
      "metadata": {
        "execution": {
          "iopub.status.busy": "2024-04-17T07:38:40.621341Z",
          "iopub.execute_input": "2024-04-17T07:38:40.622197Z",
          "iopub.status.idle": "2024-04-17T07:38:40.627977Z",
          "shell.execute_reply.started": "2024-04-17T07:38:40.622164Z",
          "shell.execute_reply": "2024-04-17T07:38:40.626999Z"
        },
        "trusted": true,
        "id": "ttz7MKiUryhP"
      },
      "execution_count": null,
      "outputs": []
    },
    {
      "cell_type": "code",
      "source": [
        "# predicting first image\n",
        "img, label = test[0]\n",
        "plt.imshow(img.permute(1, 2, 0))\n",
        "print('Label:', test_images[0], ', Predicted:', predict_image(img, model))"
      ],
      "metadata": {
        "execution": {
          "iopub.status.busy": "2024-04-17T07:38:42.678867Z",
          "iopub.execute_input": "2024-04-17T07:38:42.679253Z",
          "iopub.status.idle": "2024-04-17T07:38:42.949379Z",
          "shell.execute_reply.started": "2024-04-17T07:38:42.679224Z",
          "shell.execute_reply": "2024-04-17T07:38:42.948504Z"
        },
        "trusted": true,
        "id": "-p9ajkh9ryhP"
      },
      "execution_count": null,
      "outputs": []
    },
    {
      "cell_type": "code",
      "source": [
        "# getting all predictions (actual label vs predicted)\n",
        "for i, (img, label) in enumerate(test):\n",
        "    print('Label:', test_images[i], ', Predicted:', predict_image(img, model))"
      ],
      "metadata": {
        "execution": {
          "iopub.status.busy": "2024-04-17T07:38:47.348207Z",
          "iopub.execute_input": "2024-04-17T07:38:47.348595Z",
          "iopub.status.idle": "2024-04-17T07:38:47.583234Z",
          "shell.execute_reply.started": "2024-04-17T07:38:47.348567Z",
          "shell.execute_reply": "2024-04-17T07:38:47.582235Z"
        },
        "trusted": true,
        "id": "y693hLw_ryhQ"
      },
      "execution_count": null,
      "outputs": []
    },
    {
      "cell_type": "code",
      "source": [],
      "metadata": {
        "id": "uWklaSpqryhQ"
      },
      "execution_count": null,
      "outputs": []
    }
  ]
}